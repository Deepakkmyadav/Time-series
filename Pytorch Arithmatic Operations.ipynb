{
  "nbformat": 4,
  "nbformat_minor": 0,
  "metadata": {
    "colab": {
      "name": "Forms snippets",
      "provenance": [],
      "collapsed_sections": [],
      "include_colab_link": true
    },
    "kernelspec": {
      "display_name": "Python 3",
      "name": "python3"
    }
  },
  "cells": [
    {
      "cell_type": "markdown",
      "metadata": {
        "id": "view-in-github",
        "colab_type": "text"
      },
      "source": [
        "<a href=\"https://colab.research.google.com/github/Deepakkmyadav/Time-series/blob/main/Pytorch%20Arithmatic%20Operations.ipynb\" target=\"_parent\"><img src=\"https://colab.research.google.com/assets/colab-badge.svg\" alt=\"Open In Colab\"/></a>"
      ]
    },
    {
      "cell_type": "code",
      "metadata": {
        "id": "E9k_7zTB_kpv"
      },
      "source": [
        "# Import torch\n",
        "import torch"
      ],
      "execution_count": 3,
      "outputs": []
    },
    {
      "cell_type": "code",
      "metadata": {
        "id": "na2WsFlI_zkr"
      },
      "source": [
        "your_first_tensor=torch.rand(2,3)"
      ],
      "execution_count": 5,
      "outputs": []
    },
    {
      "cell_type": "code",
      "metadata": {
        "id": "fg1L0FUrAETU"
      },
      "source": [
        "# Calculate the shape of the tensor\n",
        "tensor_size = your_first_tensor.shape"
      ],
      "execution_count": 6,
      "outputs": []
    },
    {
      "cell_type": "code",
      "metadata": {
        "id": "4AZCb3nmARhc",
        "outputId": "08c659ba-3726-401b-eb4a-0414b51abdb2",
        "colab": {
          "base_uri": "https://localhost:8080/"
        }
      },
      "source": [
        "# Print the values of the tensor and its shape\n",
        "print(your_first_tensor )\n",
        "print(tensor_size)"
      ],
      "execution_count": 8,
      "outputs": [
        {
          "output_type": "stream",
          "text": [
            "tensor([[0.6801, 0.2816, 0.5843],\n",
            "        [0.3084, 0.2256, 0.4591]])\n",
            "torch.Size([2, 3])\n"
          ],
          "name": "stdout"
        }
      ]
    },
    {
      "cell_type": "code",
      "metadata": {
        "id": "TJ6ef8-BAe53"
      },
      "source": [
        "# Create a matrix of ones with shape 3 by 3\n",
        "tensor_of_ones = torch.ones(3, 3)\n",
        "\n",
        "# Create an identity matrix with shape 3 by 3\n",
        "identity_tensor = torch.eye(3)"
      ],
      "execution_count": 10,
      "outputs": []
    },
    {
      "cell_type": "code",
      "metadata": {
        "id": "bfg2Y9Z_Ah17",
        "outputId": "3c5ace15-0691-487d-9f7a-ba98007e3f75",
        "colab": {
          "base_uri": "https://localhost:8080/"
        }
      },
      "source": [
        "print(identity_tensor)"
      ],
      "execution_count": 13,
      "outputs": [
        {
          "output_type": "stream",
          "text": [
            "tensor([[1., 0., 0.],\n",
            "        [0., 1., 0.],\n",
            "        [0., 0., 1.]])\n"
          ],
          "name": "stdout"
        }
      ]
    },
    {
      "cell_type": "code",
      "metadata": {
        "id": "TFrinLdZAxQB",
        "outputId": "d50d8661-0f5e-4289-9c4b-ae8d77f9314f",
        "colab": {
          "base_uri": "https://localhost:8080/"
        }
      },
      "source": [
        "# Do a matrix multiplication of tensor_of_ones with identity_tensor\n",
        "matrices_multiplied = torch.matmul(tensor_of_ones, identity_tensor)\n",
        "print(matrices_multiplied)\n",
        "\n",
        "\n",
        "matrices_multiplied_normal = tensor_of_ones* identity_tensor\n",
        "print(matrices_multiplied_normal)"
      ],
      "execution_count": 15,
      "outputs": [
        {
          "output_type": "stream",
          "text": [
            "tensor([[1., 1., 1.],\n",
            "        [1., 1., 1.],\n",
            "        [1., 1., 1.]])\n",
            "tensor([[1., 0., 0.],\n",
            "        [0., 1., 0.],\n",
            "        [0., 0., 1.]])\n"
          ],
          "name": "stdout"
        }
      ]
    },
    {
      "cell_type": "code",
      "metadata": {
        "id": "TTlM7-71B5A3",
        "outputId": "7398d5b9-64dd-4078-8b34-51909a41b733",
        "colab": {
          "base_uri": "https://localhost:8080/"
        }
      },
      "source": [
        "# Initialize tensors x, y and z\n",
        "x = torch.rand(1000,1000)\n",
        "y = torch.rand(1000,1000)\n",
        "z = torch.rand(1000,1000)\n",
        "\n",
        "# Multiply x with y\n",
        "q = torch.matmul(x,y)\n",
        "\n",
        "# Multiply elementwise z with q\n",
        "f = q*z\n",
        "\n",
        "mean_f = torch.mean(f)\n",
        "print(mean_f)"
      ],
      "execution_count": 16,
      "outputs": [
        {
          "output_type": "stream",
          "text": [
            "tensor(125.1597)\n"
          ],
          "name": "stdout"
        }
      ]
    },
    {
      "cell_type": "code",
      "metadata": {
        "id": "-qrggeA1DkZ_",
        "outputId": "9116204e-6b37-4d6f-9365-77b4022eba26",
        "colab": {
          "base_uri": "https://localhost:8080/"
        }
      },
      "source": [
        "x = torch.tensor(4., requires_grad=True)\n",
        "y = torch.tensor(-3., requires_grad=True)\n",
        "z = torch.tensor(5., requires_grad=True)\n",
        "\n",
        "q = x + y\n",
        "f = q * z\n",
        "\n",
        "f.backward()\n",
        "print(\"Gradient of z is: \" + str(z.grad))\n",
        "print(\"Gradient of y is: \" + str(y.grad))\n",
        "print(\"Gradient of x is: \" + str(x.grad))\n",
        "\n"
      ],
      "execution_count": 17,
      "outputs": [
        {
          "output_type": "stream",
          "text": [
            "Gradient of z is: tensor(1.)\n",
            "Gradient of y is: tensor(5.)\n",
            "Gradient of x is: tensor(5.)\n"
          ],
          "name": "stdout"
        }
      ]
    }
  ]
}